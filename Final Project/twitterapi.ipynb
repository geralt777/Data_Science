{
 "cells": [
  {
   "cell_type": "code",
   "execution_count": 2,
   "metadata": {},
   "outputs": [
    {
     "name": "stdout",
     "output_type": "stream",
     "text": [
      "@Fritzi_Galland tweeted: @benkonietzny Mir war neu, dass Angela Merkel die Doktorarbeit für Guttenberg abgeschrieben und Röttgen den Weg nac… https://t.co/pQl4Sqctmu\n"
     ]
    }
   ],
   "source": [
    "from TwitterSearch import *\n",
    "try:\n",
    "    tso = TwitterSearchOrder() # create a TwitterSearchOrder object\n",
    "    tso.set_keywords(['Guttenberg', 'Doktorarbeit']) # let's define all words we would like to have a look for\n",
    "    tso.set_language('de') # we want to see German tweets only\n",
    "    tso.set_include_entities(False) # and don't give us all those entity information\n",
    "\n",
    "    # it's about time to create a TwitterSearch object with our secret tokens\n",
    "    ts = TwitterSearch(\n",
    "        consumer_key = 't8kk3oyBtwJ9dNYX6lAM7hE4U',\n",
    "        consumer_secret = 'SGC99iH9K6CAduYxOWK2EFzkpw3KV2y0ifN81M0Vixg9MOGXPL',\n",
    "        access_token = '1069734858409369600-gDxgAd1YxwKFnS1rlr4QlHnJo7pEFq',\n",
    "        access_token_secret = 'PdiKTvFDbHn3fUp9HrlVW0Vj745R7jlYH5y09SqkSgQge'\n",
    "     )\n",
    "\n",
    "     # this is where the fun actually starts :)\n",
    "    for tweet in ts.search_tweets_iterable(tso):\n",
    "        print( '@%s tweeted: %s' % ( tweet['user']['screen_name'], tweet['text'] ) )\n",
    "\n",
    "except TwitterSearchException as e: # take care of all those ugly errors if there are some\n",
    "    print(e)"
   ]
  },
  {
   "cell_type": "code",
   "execution_count": 32,
   "metadata": {},
   "outputs": [
    {
     "name": "stdout",
     "output_type": "stream",
     "text": [
      "RT @cdelancray: Four principles for addressing the AI bias problem: better representation in training data, protection against unjust effec…\n",
      "RT @cdelancray: Four principles for addressing the AI bias problem: better representation in training data, protection against unjust effec…\n",
      "RT @cdelancray: Four principles for addressing the AI bias problem: better representation in training data, protection against unjust effec…\n",
      "Four principles for addressing the AI bias problem: better representation in training data, protection against unju… https://t.co/PJqtr6IDt4\n",
      "Four principles for addressing the AI bias problem: better representation in training data, protection against unju… https://t.co/E92EY7ZmkW\n",
      "Count = 5\n"
     ]
    }
   ],
   "source": [
    "from TwitterAPI import TwitterAPI\n",
    "\n",
    "SEARCH_TERM = 'Active Fairness in Algorithmic Decision Making'\n",
    "PRODUCT = 'fullarchive'\n",
    "LABEL = 'dsffinalproj'\n",
    "\n",
    "api = TwitterAPI('RcdOyF6uqIyVXMIijmBLK1Sj4', \n",
    "                 'LCHpKXnvYsQOyeAGgjzc2KnXh2EAFZ5CUKDnzh8vBdIB4gGoW7',\n",
    "                 '1069734858409369600-D9ceEYNLs2MmozduBhayHPgD6qCX6X',\n",
    "                 'qqQYfXsyT7Y7cUQUutleNkqsms9VI8h31bV1NsbLGBBNH')\n",
    "\n",
    "r = api.request('tweets/search/%s/:%s' % (PRODUCT, LABEL), \n",
    "                {'query':SEARCH_TERM})\n",
    "\n",
    "p = 0\n",
    "for item in r:\n",
    "    print(item['text'] if 'text' in item else item)\n",
    "    p+=1\n",
    "\n",
    "print(\"Count = \"+str(p))"
   ]
  },
  {
   "cell_type": "code",
   "execution_count": null,
   "metadata": {},
   "outputs": [],
   "source": [
    "from TwitterAPI import TwitterAPI\n",
    "\n",
    "SEARCH_TERM = 'pizza'\n",
    "\n",
    "api = TwitterAPI(<consumer key>, \n",
    "                 <consumer secret>,\n",
    "                 <access token key>,\n",
    "                 <access token secret>)\n",
    "\n",
    "r = api.request('search/tweets', {'q': SEARCH_TERM})\n",
    "\n",
    "for item in r:\n",
    "    print(item['text'] if 'text' in item else item)\n",
    "\n",
    "print('\\nQUOTA: %s' % r.get_quota())"
   ]
  },
  {
   "cell_type": "code",
   "execution_count": 1,
   "metadata": {},
   "outputs": [],
   "source": [
    "client_key = 't8kk3oyBtwJ9dNYX6lAM7hE4U'\n",
    "client_secret = 'SGC99iH9K6CAduYxOWK2EFzkpw3KV2y0ifN81M0Vixg9MOGXPL'\n",
    "\n",
    "import base64\n",
    "\n",
    "key_secret = '{}:{}'.format(client_key, client_secret).encode('ascii')\n",
    "b64_encoded_key = base64.b64encode(key_secret)\n",
    "b64_encoded_key = b64_encoded_key.decode('ascii')"
   ]
  },
  {
   "cell_type": "code",
   "execution_count": 2,
   "metadata": {},
   "outputs": [],
   "source": [
    "import requests\n",
    "\n",
    "base_url = 'https://api.twitter.com/'\n",
    "auth_url = '{}oauth2/token'.format(base_url)\n",
    "\n",
    "auth_headers = {\n",
    "    'Authorization': 'Basic {}'.format(b64_encoded_key),\n",
    "    'Content-Type': 'application/x-www-form-urlencoded;charset=UTF-8'\n",
    "}\n",
    "\n",
    "auth_data = {\n",
    "    'grant_type': 'client_credentials'\n",
    "}\n",
    "\n",
    "auth_resp = requests.post(auth_url, headers=auth_headers, data=auth_data)"
   ]
  },
  {
   "cell_type": "code",
   "execution_count": 3,
   "metadata": {},
   "outputs": [
    {
     "data": {
      "text/plain": [
       "200"
      ]
     },
     "execution_count": 3,
     "metadata": {},
     "output_type": "execute_result"
    }
   ],
   "source": [
    "auth_resp.status_code"
   ]
  },
  {
   "cell_type": "code",
   "execution_count": 4,
   "metadata": {},
   "outputs": [
    {
     "data": {
      "text/plain": [
       "dict_keys(['token_type', 'access_token'])"
      ]
     },
     "execution_count": 4,
     "metadata": {},
     "output_type": "execute_result"
    }
   ],
   "source": [
    "# Keys in data response are token_type (bearer) and access_token (your access token)\n",
    "auth_resp.json().keys()"
   ]
  },
  {
   "cell_type": "code",
   "execution_count": 5,
   "metadata": {},
   "outputs": [],
   "source": [
    "access_token = auth_resp.json()['access_token']"
   ]
  },
  {
   "cell_type": "code",
   "execution_count": 16,
   "metadata": {},
   "outputs": [],
   "source": [
    "import json\n",
    "\n",
    "search_headers = {\n",
    "    'Authorization': 'Bearer {}'.format(access_token)    \n",
    "}\n",
    "\n",
    "search_params = {\n",
    "    'query': 'General Election',\n",
    "}\n",
    "\n",
    "#search_url = '{}1.1/search/tweets.json'.format(base_url)\n",
    "search_url = '{}1.1/tweets/search/30day/dsffinalproj.json'.format(base_url)\n",
    "\n",
    "search_resp = requests.get(search_url, headers=search_headers, params=search_params)"
   ]
  },
  {
   "cell_type": "code",
   "execution_count": 17,
   "metadata": {},
   "outputs": [
    {
     "data": {
      "text/plain": [
       "403"
      ]
     },
     "execution_count": 17,
     "metadata": {},
     "output_type": "execute_result"
    }
   ],
   "source": [
    "search_resp.status_code"
   ]
  },
  {
   "cell_type": "code",
   "execution_count": 14,
   "metadata": {},
   "outputs": [],
   "source": [
    "tweet_data = search_resp.json()"
   ]
  },
  {
   "cell_type": "code",
   "execution_count": 15,
   "metadata": {},
   "outputs": [
    {
     "name": "stdout",
     "output_type": "stream",
     "text": [
      "RT @bbclaurak: These are hugely important issues of course - problems with universal credit and poverty - but govt is falling apart, defeat…\n",
      "\n",
      "RT @OwenJones84: Think he's right. Get ready for a general election and the fight of your lives. https://t.co/cFV1PWTDOf\n",
      "\n"
     ]
    }
   ],
   "source": [
    "for x in tweet_data['statuses']:\n",
    "    print(x['text'] + '\\n')"
   ]
  },
  {
   "cell_type": "code",
   "execution_count": null,
   "metadata": {},
   "outputs": [],
   "source": [
    "    "
   ]
  }
 ],
 "metadata": {
  "kernelspec": {
   "display_name": "Python 3",
   "language": "python",
   "name": "python3"
  },
  "language_info": {
   "codemirror_mode": {
    "name": "ipython",
    "version": 3
   },
   "file_extension": ".py",
   "mimetype": "text/x-python",
   "name": "python",
   "nbconvert_exporter": "python",
   "pygments_lexer": "ipython3",
   "version": "3.6.5"
  }
 },
 "nbformat": 4,
 "nbformat_minor": 2
}
